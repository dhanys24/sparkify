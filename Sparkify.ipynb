{
 "cells": [
  {
   "cell_type": "markdown",
   "metadata": {},
   "source": [
    "# Sparkify Project Workspace\n",
    "This workspace contains a tiny subset (128MB) of the full dataset available (12GB). Feel free to use this workspace to build your project, or to explore a smaller subset with Spark before deploying your cluster on the cloud. Instructions for setting up your Spark cluster is included in the last lesson of the Extracurricular Spark Course content.\n",
    "\n",
    "You can follow the steps below to guide your data analysis and model building portion of this project."
   ]
  },
  {
   "cell_type": "code",
   "execution_count": 1,
   "metadata": {},
   "outputs": [],
   "source": [
    "from pyspark.sql import SparkSession\n",
    "from pyspark.sql.functions import avg, col, concat, desc, explode, lit, min, max, split, udf\n",
    "from pyspark.sql.types import IntegerType\n",
    "\n",
    "from pyspark.ml import Pipeline\n",
    "from pyspark.ml.classification import LogisticRegression\n",
    "from pyspark.ml.classification import RandomForestClassifier\n",
    "from pyspark.ml.classification import GBTClassifier\n",
    "from pyspark.ml.evaluation import MulticlassClassificationEvaluator\n",
    "from pyspark.ml.feature import CountVectorizer, IDF, Normalizer, PCA, RegexTokenizer, StandardScaler, StopWordsRemover, StringIndexer, VectorAssembler\n",
    "from pyspark.ml.regression import LinearRegression\n",
    "from pyspark.ml.tuning import CrossValidator, ParamGridBuilder\n",
    "\n",
    "import re\n",
    "import numpy as np\n",
    "import pandas as pd\n",
    "from functools import reduce\n",
    "import seaborn as sns"
   ]
  },
  {
   "cell_type": "code",
   "execution_count": 2,
   "metadata": {},
   "outputs": [],
   "source": [
    "spark = SparkSession.builder.appName('Sparkify Churn Prediction').getOrCreate()"
   ]
  },
  {
   "cell_type": "markdown",
   "metadata": {},
   "source": [
    "# Load and Clean Dataset\n",
    "In this workspace, the mini-dataset file is `mini_sparkify_event_data.json`. Load and clean the dataset, checking for invalid or missing data - for example, records without userids or sessionids. "
   ]
  },
  {
   "cell_type": "code",
   "execution_count": 3,
   "metadata": {},
   "outputs": [],
   "source": [
    "df = spark.read.json('mini_sparkify_event_data.json')"
   ]
  },
  {
   "cell_type": "code",
   "execution_count": 4,
   "metadata": {},
   "outputs": [],
   "source": [
    "# change into pandas for easier workaround\n",
    "dfp = df.toPandas()"
   ]
  },
  {
   "cell_type": "code",
   "execution_count": 5,
   "metadata": {},
   "outputs": [
    {
     "name": "stdout",
     "output_type": "stream",
     "text": [
      "<class 'pandas.core.frame.DataFrame'>\n",
      "RangeIndex: 286500 entries, 0 to 286499\n",
      "Data columns (total 18 columns):\n",
      "artist           228108 non-null object\n",
      "auth             286500 non-null object\n",
      "firstName        278154 non-null object\n",
      "gender           278154 non-null object\n",
      "itemInSession    286500 non-null int64\n",
      "lastName         278154 non-null object\n",
      "length           228108 non-null float64\n",
      "level            286500 non-null object\n",
      "location         278154 non-null object\n",
      "method           286500 non-null object\n",
      "page             286500 non-null object\n",
      "registration     278154 non-null float64\n",
      "sessionId        286500 non-null int64\n",
      "song             228108 non-null object\n",
      "status           286500 non-null int64\n",
      "ts               286500 non-null int64\n",
      "userAgent        278154 non-null object\n",
      "userId           286500 non-null object\n",
      "dtypes: float64(2), int64(4), object(12)\n",
      "memory usage: 39.3+ MB\n"
     ]
    }
   ],
   "source": [
    "dfp.info()"
   ]
  },
  {
   "cell_type": "code",
   "execution_count": 6,
   "metadata": {},
   "outputs": [
    {
     "data": {
      "text/html": [
       "<div>\n",
       "<style scoped>\n",
       "    .dataframe tbody tr th:only-of-type {\n",
       "        vertical-align: middle;\n",
       "    }\n",
       "\n",
       "    .dataframe tbody tr th {\n",
       "        vertical-align: top;\n",
       "    }\n",
       "\n",
       "    .dataframe thead th {\n",
       "        text-align: right;\n",
       "    }\n",
       "</style>\n",
       "<table border=\"1\" class=\"dataframe\">\n",
       "  <thead>\n",
       "    <tr style=\"text-align: right;\">\n",
       "      <th></th>\n",
       "      <th>artist</th>\n",
       "      <th>auth</th>\n",
       "      <th>firstName</th>\n",
       "      <th>gender</th>\n",
       "      <th>itemInSession</th>\n",
       "      <th>lastName</th>\n",
       "      <th>length</th>\n",
       "      <th>level</th>\n",
       "      <th>location</th>\n",
       "      <th>method</th>\n",
       "      <th>page</th>\n",
       "      <th>registration</th>\n",
       "      <th>sessionId</th>\n",
       "      <th>song</th>\n",
       "      <th>status</th>\n",
       "      <th>ts</th>\n",
       "      <th>userAgent</th>\n",
       "      <th>userId</th>\n",
       "    </tr>\n",
       "  </thead>\n",
       "  <tbody>\n",
       "    <tr>\n",
       "      <th>0</th>\n",
       "      <td>Martha Tilston</td>\n",
       "      <td>Logged In</td>\n",
       "      <td>Colin</td>\n",
       "      <td>M</td>\n",
       "      <td>50</td>\n",
       "      <td>Freeman</td>\n",
       "      <td>277.89016</td>\n",
       "      <td>paid</td>\n",
       "      <td>Bakersfield, CA</td>\n",
       "      <td>PUT</td>\n",
       "      <td>NextSong</td>\n",
       "      <td>1.538173e+12</td>\n",
       "      <td>29</td>\n",
       "      <td>Rockpools</td>\n",
       "      <td>200</td>\n",
       "      <td>1538352117000</td>\n",
       "      <td>Mozilla/5.0 (Windows NT 6.1; WOW64; rv:31.0) G...</td>\n",
       "      <td>30</td>\n",
       "    </tr>\n",
       "    <tr>\n",
       "      <th>1</th>\n",
       "      <td>Five Iron Frenzy</td>\n",
       "      <td>Logged In</td>\n",
       "      <td>Micah</td>\n",
       "      <td>M</td>\n",
       "      <td>79</td>\n",
       "      <td>Long</td>\n",
       "      <td>236.09424</td>\n",
       "      <td>free</td>\n",
       "      <td>Boston-Cambridge-Newton, MA-NH</td>\n",
       "      <td>PUT</td>\n",
       "      <td>NextSong</td>\n",
       "      <td>1.538332e+12</td>\n",
       "      <td>8</td>\n",
       "      <td>Canada</td>\n",
       "      <td>200</td>\n",
       "      <td>1538352180000</td>\n",
       "      <td>\"Mozilla/5.0 (Windows NT 6.1; WOW64) AppleWebK...</td>\n",
       "      <td>9</td>\n",
       "    </tr>\n",
       "    <tr>\n",
       "      <th>2</th>\n",
       "      <td>Adam Lambert</td>\n",
       "      <td>Logged In</td>\n",
       "      <td>Colin</td>\n",
       "      <td>M</td>\n",
       "      <td>51</td>\n",
       "      <td>Freeman</td>\n",
       "      <td>282.82730</td>\n",
       "      <td>paid</td>\n",
       "      <td>Bakersfield, CA</td>\n",
       "      <td>PUT</td>\n",
       "      <td>NextSong</td>\n",
       "      <td>1.538173e+12</td>\n",
       "      <td>29</td>\n",
       "      <td>Time For Miracles</td>\n",
       "      <td>200</td>\n",
       "      <td>1538352394000</td>\n",
       "      <td>Mozilla/5.0 (Windows NT 6.1; WOW64; rv:31.0) G...</td>\n",
       "      <td>30</td>\n",
       "    </tr>\n",
       "    <tr>\n",
       "      <th>3</th>\n",
       "      <td>Enigma</td>\n",
       "      <td>Logged In</td>\n",
       "      <td>Micah</td>\n",
       "      <td>M</td>\n",
       "      <td>80</td>\n",
       "      <td>Long</td>\n",
       "      <td>262.71302</td>\n",
       "      <td>free</td>\n",
       "      <td>Boston-Cambridge-Newton, MA-NH</td>\n",
       "      <td>PUT</td>\n",
       "      <td>NextSong</td>\n",
       "      <td>1.538332e+12</td>\n",
       "      <td>8</td>\n",
       "      <td>Knocking On Forbidden Doors</td>\n",
       "      <td>200</td>\n",
       "      <td>1538352416000</td>\n",
       "      <td>\"Mozilla/5.0 (Windows NT 6.1; WOW64) AppleWebK...</td>\n",
       "      <td>9</td>\n",
       "    </tr>\n",
       "    <tr>\n",
       "      <th>4</th>\n",
       "      <td>Daft Punk</td>\n",
       "      <td>Logged In</td>\n",
       "      <td>Colin</td>\n",
       "      <td>M</td>\n",
       "      <td>52</td>\n",
       "      <td>Freeman</td>\n",
       "      <td>223.60771</td>\n",
       "      <td>paid</td>\n",
       "      <td>Bakersfield, CA</td>\n",
       "      <td>PUT</td>\n",
       "      <td>NextSong</td>\n",
       "      <td>1.538173e+12</td>\n",
       "      <td>29</td>\n",
       "      <td>Harder Better Faster Stronger</td>\n",
       "      <td>200</td>\n",
       "      <td>1538352676000</td>\n",
       "      <td>Mozilla/5.0 (Windows NT 6.1; WOW64; rv:31.0) G...</td>\n",
       "      <td>30</td>\n",
       "    </tr>\n",
       "  </tbody>\n",
       "</table>\n",
       "</div>"
      ],
      "text/plain": [
       "             artist       auth firstName gender  itemInSession lastName  \\\n",
       "0    Martha Tilston  Logged In     Colin      M             50  Freeman   \n",
       "1  Five Iron Frenzy  Logged In     Micah      M             79     Long   \n",
       "2      Adam Lambert  Logged In     Colin      M             51  Freeman   \n",
       "3            Enigma  Logged In     Micah      M             80     Long   \n",
       "4         Daft Punk  Logged In     Colin      M             52  Freeman   \n",
       "\n",
       "      length level                        location method      page  \\\n",
       "0  277.89016  paid                 Bakersfield, CA    PUT  NextSong   \n",
       "1  236.09424  free  Boston-Cambridge-Newton, MA-NH    PUT  NextSong   \n",
       "2  282.82730  paid                 Bakersfield, CA    PUT  NextSong   \n",
       "3  262.71302  free  Boston-Cambridge-Newton, MA-NH    PUT  NextSong   \n",
       "4  223.60771  paid                 Bakersfield, CA    PUT  NextSong   \n",
       "\n",
       "   registration  sessionId                           song  status  \\\n",
       "0  1.538173e+12         29                      Rockpools     200   \n",
       "1  1.538332e+12          8                         Canada     200   \n",
       "2  1.538173e+12         29              Time For Miracles     200   \n",
       "3  1.538332e+12          8    Knocking On Forbidden Doors     200   \n",
       "4  1.538173e+12         29  Harder Better Faster Stronger     200   \n",
       "\n",
       "              ts                                          userAgent userId  \n",
       "0  1538352117000  Mozilla/5.0 (Windows NT 6.1; WOW64; rv:31.0) G...     30  \n",
       "1  1538352180000  \"Mozilla/5.0 (Windows NT 6.1; WOW64) AppleWebK...      9  \n",
       "2  1538352394000  Mozilla/5.0 (Windows NT 6.1; WOW64; rv:31.0) G...     30  \n",
       "3  1538352416000  \"Mozilla/5.0 (Windows NT 6.1; WOW64) AppleWebK...      9  \n",
       "4  1538352676000  Mozilla/5.0 (Windows NT 6.1; WOW64; rv:31.0) G...     30  "
      ]
     },
     "execution_count": 6,
     "metadata": {},
     "output_type": "execute_result"
    }
   ],
   "source": [
    "dfp.head()"
   ]
  },
  {
   "cell_type": "code",
   "execution_count": 7,
   "metadata": {},
   "outputs": [
    {
     "data": {
      "text/plain": [
       "array(['NextSong', 'Add to Playlist', 'Roll Advert', 'Thumbs Up',\n",
       "       'Downgrade', 'Thumbs Down', 'Home', 'Logout', 'Help', 'Login',\n",
       "       'Upgrade', 'Add Friend', 'About', 'Settings', 'Submit Upgrade',\n",
       "       'Submit Downgrade', 'Error', 'Save Settings', 'Cancel',\n",
       "       'Cancellation Confirmation', 'Register', 'Submit Registration'], dtype=object)"
      ]
     },
     "execution_count": 7,
     "metadata": {},
     "output_type": "execute_result"
    }
   ],
   "source": [
    "dfp['page'].unique()"
   ]
  },
  {
   "cell_type": "code",
   "execution_count": 8,
   "metadata": {},
   "outputs": [
    {
     "data": {
      "text/plain": [
       "8346"
      ]
     },
     "execution_count": 8,
     "metadata": {},
     "output_type": "execute_result"
    }
   ],
   "source": [
    "# find empty userId\n",
    "dfp[dfp['userId']=='']['userId'].count()"
   ]
  },
  {
   "cell_type": "code",
   "execution_count": 9,
   "metadata": {
    "scrolled": true
   },
   "outputs": [
    {
     "data": {
      "text/plain": [
       "array(['Home', 'Help', 'Login', 'About', 'Error', 'Register',\n",
       "       'Submit Registration'], dtype=object)"
      ]
     },
     "execution_count": 9,
     "metadata": {},
     "output_type": "execute_result"
    }
   ],
   "source": [
    "# what page empty userId landing on\n",
    "dfp[dfp['userId']=='']['page'].unique()"
   ]
  },
  {
   "cell_type": "code",
   "execution_count": 10,
   "metadata": {
    "scrolled": false
   },
   "outputs": [
    {
     "data": {
      "text/html": [
       "<div>\n",
       "<style scoped>\n",
       "    .dataframe tbody tr th:only-of-type {\n",
       "        vertical-align: middle;\n",
       "    }\n",
       "\n",
       "    .dataframe tbody tr th {\n",
       "        vertical-align: top;\n",
       "    }\n",
       "\n",
       "    .dataframe thead th {\n",
       "        text-align: right;\n",
       "    }\n",
       "</style>\n",
       "<table border=\"1\" class=\"dataframe\">\n",
       "  <thead>\n",
       "    <tr style=\"text-align: right;\">\n",
       "      <th></th>\n",
       "      <th>artist</th>\n",
       "      <th>auth</th>\n",
       "      <th>firstName</th>\n",
       "      <th>gender</th>\n",
       "      <th>itemInSession</th>\n",
       "      <th>lastName</th>\n",
       "      <th>length</th>\n",
       "      <th>level</th>\n",
       "      <th>location</th>\n",
       "      <th>method</th>\n",
       "      <th>page</th>\n",
       "      <th>registration</th>\n",
       "      <th>sessionId</th>\n",
       "      <th>song</th>\n",
       "      <th>status</th>\n",
       "      <th>ts</th>\n",
       "      <th>userAgent</th>\n",
       "      <th>userId</th>\n",
       "    </tr>\n",
       "  </thead>\n",
       "  <tbody>\n",
       "    <tr>\n",
       "      <th>57</th>\n",
       "      <td>None</td>\n",
       "      <td>Logged Out</td>\n",
       "      <td>None</td>\n",
       "      <td>None</td>\n",
       "      <td>100</td>\n",
       "      <td>None</td>\n",
       "      <td>NaN</td>\n",
       "      <td>free</td>\n",
       "      <td>None</td>\n",
       "      <td>GET</td>\n",
       "      <td>Home</td>\n",
       "      <td>NaN</td>\n",
       "      <td>8</td>\n",
       "      <td>None</td>\n",
       "      <td>200</td>\n",
       "      <td>1538355745000</td>\n",
       "      <td>None</td>\n",
       "      <td></td>\n",
       "    </tr>\n",
       "    <tr>\n",
       "      <th>58</th>\n",
       "      <td>None</td>\n",
       "      <td>Logged Out</td>\n",
       "      <td>None</td>\n",
       "      <td>None</td>\n",
       "      <td>101</td>\n",
       "      <td>None</td>\n",
       "      <td>NaN</td>\n",
       "      <td>free</td>\n",
       "      <td>None</td>\n",
       "      <td>GET</td>\n",
       "      <td>Help</td>\n",
       "      <td>NaN</td>\n",
       "      <td>8</td>\n",
       "      <td>None</td>\n",
       "      <td>200</td>\n",
       "      <td>1538355807000</td>\n",
       "      <td>None</td>\n",
       "      <td></td>\n",
       "    </tr>\n",
       "    <tr>\n",
       "      <th>59</th>\n",
       "      <td>None</td>\n",
       "      <td>Logged Out</td>\n",
       "      <td>None</td>\n",
       "      <td>None</td>\n",
       "      <td>102</td>\n",
       "      <td>None</td>\n",
       "      <td>NaN</td>\n",
       "      <td>free</td>\n",
       "      <td>None</td>\n",
       "      <td>GET</td>\n",
       "      <td>Home</td>\n",
       "      <td>NaN</td>\n",
       "      <td>8</td>\n",
       "      <td>None</td>\n",
       "      <td>200</td>\n",
       "      <td>1538355841000</td>\n",
       "      <td>None</td>\n",
       "      <td></td>\n",
       "    </tr>\n",
       "    <tr>\n",
       "      <th>60</th>\n",
       "      <td>None</td>\n",
       "      <td>Logged Out</td>\n",
       "      <td>None</td>\n",
       "      <td>None</td>\n",
       "      <td>103</td>\n",
       "      <td>None</td>\n",
       "      <td>NaN</td>\n",
       "      <td>free</td>\n",
       "      <td>None</td>\n",
       "      <td>PUT</td>\n",
       "      <td>Login</td>\n",
       "      <td>NaN</td>\n",
       "      <td>8</td>\n",
       "      <td>None</td>\n",
       "      <td>307</td>\n",
       "      <td>1538355842000</td>\n",
       "      <td>None</td>\n",
       "      <td></td>\n",
       "    </tr>\n",
       "    <tr>\n",
       "      <th>76</th>\n",
       "      <td>None</td>\n",
       "      <td>Logged Out</td>\n",
       "      <td>None</td>\n",
       "      <td>None</td>\n",
       "      <td>2</td>\n",
       "      <td>None</td>\n",
       "      <td>NaN</td>\n",
       "      <td>free</td>\n",
       "      <td>None</td>\n",
       "      <td>GET</td>\n",
       "      <td>Home</td>\n",
       "      <td>NaN</td>\n",
       "      <td>240</td>\n",
       "      <td>None</td>\n",
       "      <td>200</td>\n",
       "      <td>1538356678000</td>\n",
       "      <td>None</td>\n",
       "      <td></td>\n",
       "    </tr>\n",
       "  </tbody>\n",
       "</table>\n",
       "</div>"
      ],
      "text/plain": [
       "   artist        auth firstName gender  itemInSession lastName  length level  \\\n",
       "57   None  Logged Out      None   None            100     None     NaN  free   \n",
       "58   None  Logged Out      None   None            101     None     NaN  free   \n",
       "59   None  Logged Out      None   None            102     None     NaN  free   \n",
       "60   None  Logged Out      None   None            103     None     NaN  free   \n",
       "76   None  Logged Out      None   None              2     None     NaN  free   \n",
       "\n",
       "   location method   page  registration  sessionId  song  status  \\\n",
       "57     None    GET   Home           NaN          8  None     200   \n",
       "58     None    GET   Help           NaN          8  None     200   \n",
       "59     None    GET   Home           NaN          8  None     200   \n",
       "60     None    PUT  Login           NaN          8  None     307   \n",
       "76     None    GET   Home           NaN        240  None     200   \n",
       "\n",
       "               ts userAgent userId  \n",
       "57  1538355745000      None         \n",
       "58  1538355807000      None         \n",
       "59  1538355841000      None         \n",
       "60  1538355842000      None         \n",
       "76  1538356678000      None         "
      ]
     },
     "execution_count": 10,
     "metadata": {},
     "output_type": "execute_result"
    }
   ],
   "source": [
    "dfp[dfp['userId']==''].head()"
   ]
  },
  {
   "cell_type": "markdown",
   "metadata": {},
   "source": [
    "based on analysis above there are 8346 data that have empty userId.\n",
    "Look at the page they are landing on, the empty userId is because they unsuccesful to login, landing on homepage and or only search information in Help option.\n",
    "We need to drop all empty userId since they never log in and we don't have hostorical data about their behavior."
   ]
  },
  {
   "cell_type": "markdown",
   "metadata": {},
   "source": [
    "#### cleaning the dataset"
   ]
  },
  {
   "cell_type": "code",
   "execution_count": 11,
   "metadata": {
    "scrolled": true
   },
   "outputs": [],
   "source": [
    "# drop empty userId\n",
    "dfp = dfp[dfp['userId']!='']"
   ]
  },
  {
   "cell_type": "code",
   "execution_count": 12,
   "metadata": {},
   "outputs": [
    {
     "data": {
      "text/plain": [
       "225"
      ]
     },
     "execution_count": 12,
     "metadata": {},
     "output_type": "execute_result"
    }
   ],
   "source": [
    "# total user in dataset\n",
    "len(dfp['userId'].unique())"
   ]
  },
  {
   "cell_type": "code",
   "execution_count": 13,
   "metadata": {},
   "outputs": [
    {
     "data": {
      "text/plain": [
       "(278154, 278154)"
      ]
     },
     "execution_count": 13,
     "metadata": {},
     "output_type": "execute_result"
    }
   ],
   "source": [
    "# checking duplications\n",
    "len(dfp),len(dfp.drop_duplicates())"
   ]
  },
  {
   "cell_type": "markdown",
   "metadata": {},
   "source": [
    "No duplication on the dataset"
   ]
  },
  {
   "cell_type": "markdown",
   "metadata": {},
   "source": [
    "# Exploratory Data Analysis\n",
    "When you're working with the full dataset, perform EDA by loading a small subset of the data and doing basic manipulations within Spark. In this workspace, you are already provided a small subset of data you can explore.\n",
    "\n",
    "### Define Churn\n",
    "\n",
    "Once you've done some preliminary analysis, create a column `Churn` to use as the label for your model. I suggest using the `Cancellation Confirmation` events to define your churn, which happen for both paid and free users. As a bonus task, you can also look into the `Downgrade` events.\n",
    "\n",
    "### Explore Data\n",
    "Once you've defined churn, perform some exploratory data analysis to observe the behavior for users who stayed vs users who churned. You can start by exploring aggregates on these two groups of users, observing how much of a specific action they experienced per a certain time unit or number of songs played."
   ]
  },
  {
   "cell_type": "code",
   "execution_count": 14,
   "metadata": {},
   "outputs": [],
   "source": [
    "churn_users = (dfp[dfp['page']=='Cancellation Confirmation']['userId'].unique()).tolist()\n",
    "dfp['churn']= np.where(dfp['userId'].isin(churn_users),1,0)"
   ]
  },
  {
   "cell_type": "code",
   "execution_count": 15,
   "metadata": {},
   "outputs": [
    {
     "data": {
      "text/plain": [
       "churn\n",
       "0    173\n",
       "1     52\n",
       "Name: userId, dtype: int64"
      ]
     },
     "execution_count": 15,
     "metadata": {},
     "output_type": "execute_result"
    }
   ],
   "source": [
    "# Number of users that has churn\n",
    "dfp.drop_duplicates(['userId']).groupby('churn')['userId'].count()"
   ]
  },
  {
   "cell_type": "code",
   "execution_count": 16,
   "metadata": {},
   "outputs": [],
   "source": [
    "def plotting_data(dfp,obj,split_by,labels):\n",
    "    dfp_plot_1 = dfp.drop_duplicates(obj).groupby(split_by)['userId'].count().plot(\n",
    "    kind='bar',\n",
    "    title='User Distribution by Churn Level');\n",
    "    dfp_plot_1.set_xticklabels(labels)"
   ]
  },
  {
   "cell_type": "code",
   "execution_count": 17,
   "metadata": {},
   "outputs": [
    {
     "data": {
      "image/png": "[encoded data removed]",
      "text/plain": [
       "<matplotlib.figure.Figure at 0x7fdbd9a81908>"
      ]
     },
     "metadata": {
      "needs_background": "light"
     },
     "output_type": "display_data"
    }
   ],
   "source": [
    "# Distribution of Churn users split by level\n",
    "plotting_data(dfp,['userId'],['churn'],['Active','Churn'])"
   ]
  },
  {
   "cell_type": "code",
   "execution_count": 18,
   "metadata": {},
   "outputs": [
    {
     "data": {
      "text/plain": [
       "23.11111111111111"
      ]
     },
     "execution_count": 18,
     "metadata": {},
     "output_type": "execute_result"
    }
   ],
   "source": [
    "# percentage of how many people churn\n",
    "(52/(52+173))*100"
   ]
  },
  {
   "cell_type": "markdown",
   "metadata": {},
   "source": [
    "Based on data above, 23% of the users are Churn!"
   ]
  },
  {
   "cell_type": "code",
   "execution_count": 19,
   "metadata": {},
   "outputs": [
    {
     "data": {
      "text/plain": [
       "churn  gender\n",
       "0      F         84\n",
       "       M         89\n",
       "1      F         20\n",
       "       M         32\n",
       "Name: userId, dtype: int64"
      ]
     },
     "execution_count": 19,
     "metadata": {},
     "output_type": "execute_result"
    }
   ],
   "source": [
    "# number of users that has churn split by Gender\n",
    "dfp.drop_duplicates(['userId','gender']).groupby(['churn','gender'])['userId'].count()"
   ]
  },
  {
   "cell_type": "code",
   "execution_count": 20,
   "metadata": {},
   "outputs": [
    {
     "data": {
      "image/png": "[encoded data removed]",
      "text/plain": [
       "<matplotlib.figure.Figure at 0x7fdbd61c7400>"
      ]
     },
     "metadata": {
      "needs_background": "light"
     },
     "output_type": "display_data"
    }
   ],
   "source": [
    "# Distribution of Churn users split by Gender\n",
    "plotting_data(dfp,['userId','gender'],['churn','gender'],\n",
    "              ['Active - Female',\n",
    "               'Active - Male',\n",
    "               'Churn - Female',\n",
    "               'Churn - Male'])"
   ]
  },
  {
   "cell_type": "code",
   "execution_count": 21,
   "metadata": {},
   "outputs": [
    {
     "data": {
      "text/plain": [
       "26.446280991735538"
      ]
     },
     "execution_count": 21,
     "metadata": {},
     "output_type": "execute_result"
    }
   ],
   "source": [
    "# Male Churn percentage\n",
    "(32/(89+32))*100"
   ]
  },
  {
   "cell_type": "code",
   "execution_count": 22,
   "metadata": {},
   "outputs": [
    {
     "data": {
      "text/plain": [
       "19.230769230769234"
      ]
     },
     "execution_count": 22,
     "metadata": {},
     "output_type": "execute_result"
    }
   ],
   "source": [
    "# Female Churn percentage\n",
    "(20/(84+20))*100"
   ]
  },
  {
   "cell_type": "markdown",
   "metadata": {},
   "source": [
    "Based on data above, Male Churn percentage higher than Female"
   ]
  },
  {
   "cell_type": "code",
   "execution_count": 23,
   "metadata": {},
   "outputs": [
    {
     "data": {
      "text/plain": [
       "churn  level\n",
       "0      free     149\n",
       "       paid     129\n",
       "1      free      46\n",
       "       paid      36\n",
       "Name: userId, dtype: int64"
      ]
     },
     "execution_count": 23,
     "metadata": {},
     "output_type": "execute_result"
    }
   ],
   "source": [
    "# number of users that has churn split by Paid Status\n",
    "dfp.drop_duplicates(['userId','level']).groupby(['churn','level'])['userId'].count()"
   ]
  },
  {
   "cell_type": "code",
   "execution_count": 24,
   "metadata": {},
   "outputs": [
    {
     "data": {
      "image/png": "[encoded data removed]",
      "text/plain": [
       "<matplotlib.figure.Figure at 0x7fdbd579fb38>"
      ]
     },
     "metadata": {
      "needs_background": "light"
     },
     "output_type": "display_data"
    }
   ],
   "source": [
    "plotting_data(dfp,['userId','level'],['churn','level'],\n",
    "              ['Active - Free',\n",
    "               'Active Paid',\n",
    "               'Churn - Free',\n",
    "               'Churn - Paid'])"
   ]
  },
  {
   "cell_type": "markdown",
   "metadata": {},
   "source": [
    "Users that using Free service churn more than paid one. This shows that paid/free services is not influencing the termination of account"
   ]
  },
  {
   "cell_type": "code",
   "execution_count": 25,
   "metadata": {},
   "outputs": [],
   "source": [
    "# downgrade users\n",
    "downgrade_users = (dfp[dfp['page']=='Downgrade']['userId'].unique()).tolist()\n",
    "dfp['downgrade']= np.where(dfp['userId'].isin(downgrade_users),1,0)"
   ]
  },
  {
   "cell_type": "code",
   "execution_count": 26,
   "metadata": {},
   "outputs": [
    {
     "data": {
      "text/plain": [
       "downgrade\n",
       "0     71\n",
       "1    154\n",
       "Name: userId, dtype: int64"
      ]
     },
     "execution_count": 26,
     "metadata": {},
     "output_type": "execute_result"
    }
   ],
   "source": [
    "dfp.drop_duplicates(['userId']).groupby('downgrade')['userId'].count()"
   ]
  },
  {
   "cell_type": "code",
   "execution_count": 27,
   "metadata": {},
   "outputs": [
    {
     "data": {
      "text/plain": [
       "churn\n",
       "0    173\n",
       "1     52\n",
       "Name: userId, dtype: int64"
      ]
     },
     "execution_count": 27,
     "metadata": {},
     "output_type": "execute_result"
    }
   ],
   "source": [
    "dfp.drop_duplicates(['userId']).groupby('churn')['userId'].count()"
   ]
  },
  {
   "cell_type": "code",
   "execution_count": 28,
   "metadata": {},
   "outputs": [
    {
     "data": {
      "image/png": "[encoded data removed]",
      "text/plain": [
       "<matplotlib.figure.Figure at 0x7fdbe8e1e128>"
      ]
     },
     "metadata": {
      "needs_background": "light"
     },
     "output_type": "display_data"
    }
   ],
   "source": [
    "# Distribution of Downgrade users split by level\n",
    "plotting_data(dfp,['userId'],['downgrade'],['not downgrade','downgrade'])"
   ]
  },
  {
   "cell_type": "code",
   "execution_count": 29,
   "metadata": {},
   "outputs": [
    {
     "data": {
      "text/plain": [
       "68.44444444444444"
      ]
     },
     "execution_count": 29,
     "metadata": {},
     "output_type": "execute_result"
    }
   ],
   "source": [
    "# Percentage of downgrade account\n",
    "(154/(154+71))*100"
   ]
  },
  {
   "cell_type": "code",
   "execution_count": 30,
   "metadata": {},
   "outputs": [
    {
     "data": {
      "text/plain": [
       "35"
      ]
     },
     "execution_count": 30,
     "metadata": {},
     "output_type": "execute_result"
    }
   ],
   "source": [
    "# users that end up terminate the account after downgrading\n",
    "len(set(downgrade_users)&set(churn_users))"
   ]
  },
  {
   "cell_type": "code",
   "execution_count": 31,
   "metadata": {},
   "outputs": [
    {
     "data": {
      "text/plain": [
       "22.727272727272727"
      ]
     },
     "execution_count": 31,
     "metadata": {},
     "output_type": "execute_result"
    }
   ],
   "source": [
    "# how many users end up churn after downgrading the account\n",
    "(35/154)*100"
   ]
  },
  {
   "cell_type": "code",
   "execution_count": 32,
   "metadata": {},
   "outputs": [
    {
     "data": {
      "text/plain": [
       "67.3076923076923"
      ]
     },
     "execution_count": 32,
     "metadata": {},
     "output_type": "execute_result"
    }
   ],
   "source": [
    "# how many users churn, downgrading the account first\n",
    "(35/52)*100"
   ]
  },
  {
   "cell_type": "markdown",
   "metadata": {},
   "source": [
    "Majority of the users downgrade the services from Paid to Free.\n",
    "23% of the downgraded users become churn.\n",
    "67% churn users come from downgraded users."
   ]
  },
  {
   "cell_type": "markdown",
   "metadata": {},
   "source": [
    "# Feature Engineering\n",
    "Once you've familiarized yourself with the data, build out the features you find promising to train your model on. To work with the full dataset, you can follow the following steps.\n",
    "- Write a script to extract the necessary features from the smaller subset of data\n",
    "- Ensure that your script is scalable, using the best practices discussed in Lesson 3\n",
    "- Try your script on the full data set, debugging your script if necessary\n",
    "\n",
    "If you are working in the classroom workspace, you can just extract features based on the small subset of data contained here. Be sure to transfer over this work to the larger dataset when you work on your Spark cluster."
   ]
  },
  {
   "cell_type": "markdown",
   "metadata": {},
   "source": [
    "#### OVERVIEW\n",
    "\n",
    "Features:\n",
    "\n",
    "- Gender of user\n",
    "- The payment level (Paid/Free)\n",
    "- Song length per user per session\n",
    "- Number of Song Played\n",
    "- Number of ThumbsUp\n",
    "- Number of ThumbsDown\n",
    "- Number of AddFriends\n",
    "- Number of downgrades\n",
    "- Number of songs per session \n",
    "- Number of Artists the user fans\n",
    "- Session's duration\n",
    "- Sessions' count per user\n",
    "- The user's subscription age"
   ]
  },
  {
   "cell_type": "markdown",
   "metadata": {},
   "source": [
    "#### Gender of User"
   ]
  },
  {
   "cell_type": "code",
   "execution_count": 33,
   "metadata": {
    "scrolled": true
   },
   "outputs": [],
   "source": [
    "dfp_features = dfp.drop_duplicates(['userId','gender','level'])[['userId','gender','level']]"
   ]
  },
  {
   "cell_type": "code",
   "execution_count": 34,
   "metadata": {
    "scrolled": false
   },
   "outputs": [],
   "source": [
    "dfp_features['gender']=np.where(dfp_features['gender']=='M',1,0)"
   ]
  },
  {
   "cell_type": "markdown",
   "metadata": {},
   "source": [
    "#### Payment level"
   ]
  },
  {
   "cell_type": "code",
   "execution_count": 35,
   "metadata": {
    "scrolled": true
   },
   "outputs": [],
   "source": [
    "dfp_features['level'] = np.where(dfp_features['level']=='paid',1,0)"
   ]
  },
  {
   "cell_type": "code",
   "execution_count": 36,
   "metadata": {},
   "outputs": [],
   "source": [
    "# if the user has 2 level (paid and free) choose\n",
    "dfp_features = dfp_features.groupby('userId')['gender','level'].max().reset_index()"
   ]
  },
  {
   "cell_type": "markdown",
   "metadata": {},
   "source": [
    "#### Total number song played"
   ]
  },
  {
   "cell_type": "code",
   "execution_count": 37,
   "metadata": {
    "scrolled": true
   },
   "outputs": [],
   "source": [
    "dfp_song = dfp.groupby(['userId'])['song'].count().reset_index()"
   ]
  },
  {
   "cell_type": "markdown",
   "metadata": {},
   "source": [
    "#### Number of thumbsup"
   ]
  },
  {
   "cell_type": "code",
   "execution_count": 38,
   "metadata": {},
   "outputs": [],
   "source": [
    "dfp_tu = dfp[dfp['page']=='Thumbs Up'].groupby(['userId']).size().reset_index(name='thumbsup')"
   ]
  },
  {
   "cell_type": "markdown",
   "metadata": {},
   "source": [
    "#### Number of Thumbs Down"
   ]
  },
  {
   "cell_type": "code",
   "execution_count": 39,
   "metadata": {},
   "outputs": [],
   "source": [
    "dfp_td = dfp[dfp['page']=='Thumbs Down'].groupby(['userId']).size().reset_index(name='thumbsdown')"
   ]
  },
  {
   "cell_type": "markdown",
   "metadata": {},
   "source": [
    "#### Add Friends"
   ]
  },
  {
   "cell_type": "code",
   "execution_count": 40,
   "metadata": {},
   "outputs": [],
   "source": [
    "dfp_add = dfp[dfp['page']=='Add Friend'].groupby(['userId']).size().reset_index(name='add_friend')"
   ]
  },
  {
   "cell_type": "markdown",
   "metadata": {},
   "source": [
    "#### Number of Downgrades"
   ]
  },
  {
   "cell_type": "code",
   "execution_count": 41,
   "metadata": {},
   "outputs": [],
   "source": [
    "dfp_dg = dfp[['userId','downgrade']].drop_duplicates()"
   ]
  },
  {
   "cell_type": "markdown",
   "metadata": {},
   "source": [
    "#### Number of Songs per Session"
   ]
  },
  {
   "cell_type": "code",
   "execution_count": 42,
   "metadata": {
    "scrolled": true
   },
   "outputs": [],
   "source": [
    "dfp_ses_song =dfp.groupby(['userId','sessionId'])['song'].count().reset_index()\n",
    "dfp_ses_song_avg = dfp_ses_song.groupby('userId')['song'].mean().reset_index(name='song_persession')"
   ]
  },
  {
   "cell_type": "markdown",
   "metadata": {},
   "source": [
    "#### Number of Artists the User fans"
   ]
  },
  {
   "cell_type": "code",
   "execution_count": 43,
   "metadata": {
    "scrolled": true
   },
   "outputs": [],
   "source": [
    "dfp_artist = dfp.groupby(['userId'])['artist'].nunique().reset_index(name='artist')"
   ]
  },
  {
   "cell_type": "markdown",
   "metadata": {},
   "source": [
    "#### Session's Duration"
   ]
  },
  {
   "cell_type": "code",
   "execution_count": 44,
   "metadata": {},
   "outputs": [],
   "source": [
    "dfp_max_ts = dfp.groupby(['userId','sessionId'])['ts'].max().reset_index(name='max ts')\n",
    "dfp_min_ts = dfp.groupby(['userId','sessionId'])['ts'].min().reset_index(name='min ts')\n",
    "dfp_ses_dur = pd.merge(dfp_max_ts,dfp_min_ts, left_on=['userId','sessionId'],right_on=['userId','sessionId'],how='left')"
   ]
  },
  {
   "cell_type": "code",
   "execution_count": 45,
   "metadata": {
    "scrolled": true
   },
   "outputs": [],
   "source": [
    "dfp_ses_dur['duration'] = dfp_ses_dur['max ts'] - dfp_ses_dur['min ts']"
   ]
  },
  {
   "cell_type": "code",
   "execution_count": 46,
   "metadata": {},
   "outputs": [],
   "source": [
    "ticks_per_hour = 1000*60*60\n",
    "dfp_ses_dur['duration_hour'] =  dfp_ses_dur['duration']/ticks_per_hour"
   ]
  },
  {
   "cell_type": "code",
   "execution_count": 47,
   "metadata": {
    "scrolled": true
   },
   "outputs": [],
   "source": [
    "dfp_ses_dur_avg = dfp_ses_dur.groupby(['userId'])['duration_hour'].mean().reset_index(name='avg_duration_hour')"
   ]
  },
  {
   "cell_type": "markdown",
   "metadata": {},
   "source": [
    "#### session count per user"
   ]
  },
  {
   "cell_type": "code",
   "execution_count": 48,
   "metadata": {},
   "outputs": [],
   "source": [
    "dfp_num_session = dfp.groupby('userId')['sessionId'].nunique().reset_index(name='num_sessions')"
   ]
  },
  {
   "cell_type": "markdown",
   "metadata": {},
   "source": [
    "#### user subscription age"
   ]
  },
  {
   "cell_type": "code",
   "execution_count": 49,
   "metadata": {},
   "outputs": [],
   "source": [
    "dfp_registration = dfp[['userId','registration']].drop_duplicates()\n",
    "dfp_last_ts = dfp.groupby('userId')['ts'].max().reset_index(name='last_ts')\n",
    "dfp_subs_age = pd.merge(dfp_registration,dfp_last_ts,left_on='userId',right_on='userId',how='left')\n",
    "dfp_subs_age['subs_age'] = (dfp_subs_age['last_ts']) - (dfp_subs_age['registration'])\n",
    "ticks_per_day = 1000*60*60*24\n",
    "dfp_subs_age['subs_age_days'] = dfp_subs_age['subs_age']/ticks_per_day\n",
    "dfp_subs_age = dfp_subs_age[dfp_subs_age['userId']!='']"
   ]
  },
  {
   "cell_type": "code",
   "execution_count": 50,
   "metadata": {},
   "outputs": [],
   "source": [
    "dfp_subs_age = dfp_subs_age[['userId','subs_age_days']]"
   ]
  },
  {
   "cell_type": "markdown",
   "metadata": {},
   "source": [
    "#### churn"
   ]
  },
  {
   "cell_type": "code",
   "execution_count": 51,
   "metadata": {},
   "outputs": [],
   "source": [
    "dfp_churn = dfp[['userId','churn']].drop_duplicates()"
   ]
  },
  {
   "cell_type": "markdown",
   "metadata": {},
   "source": [
    "#### Number of days as free/paid user"
   ]
  },
  {
   "cell_type": "code",
   "execution_count": 52,
   "metadata": {},
   "outputs": [],
   "source": [
    "dfps = [dfp_churn,dfp_features,dfp_add,dfp_artist,dfp_dg,dfp_song,dfp_tu,dfp_td,dfp_ses_song_avg,dfp_ses_dur_avg,dfp_num_session,dfp_subs_age]"
   ]
  },
  {
   "cell_type": "code",
   "execution_count": 53,
   "metadata": {
    "scrolled": true
   },
   "outputs": [],
   "source": [
    "dfp_final = reduce(lambda x,y: pd.merge(x,y, on='userId', how='outer'), dfps)"
   ]
  },
  {
   "cell_type": "code",
   "execution_count": 54,
   "metadata": {
    "scrolled": true
   },
   "outputs": [],
   "source": [
    "dfp_final = dfp_final.fillna(0)"
   ]
  },
  {
   "cell_type": "markdown",
   "metadata": {},
   "source": [
    "# Modeling\n",
    "Split the full dataset into train, test, and validation sets. Test out several of the machine learning methods you learned. Evaluate the accuracy of the various models, tuning parameters as necessary. Determine your winning model based on test accuracy and report results on the validation set. Since the churned users are a fairly small subset, I suggest using F1 score as the metric to optimize."
   ]
  },
  {
   "cell_type": "code",
   "execution_count": 55,
   "metadata": {},
   "outputs": [],
   "source": [
    "dfp_final = dfp_final.rename(columns={'churn':'label'})"
   ]
  },
  {
   "cell_type": "code",
   "execution_count": 56,
   "metadata": {},
   "outputs": [
    {
     "data": {
      "text/html": [
       "<div>\n",
       "<style scoped>\n",
       "    .dataframe tbody tr th:only-of-type {\n",
       "        vertical-align: middle;\n",
       "    }\n",
       "\n",
       "    .dataframe tbody tr th {\n",
       "        vertical-align: top;\n",
       "    }\n",
       "\n",
       "    .dataframe thead th {\n",
       "        text-align: right;\n",
       "    }\n",
       "</style>\n",
       "<table border=\"1\" class=\"dataframe\">\n",
       "  <thead>\n",
       "    <tr style=\"text-align: right;\">\n",
       "      <th></th>\n",
       "      <th>userId</th>\n",
       "      <th>label</th>\n",
       "      <th>gender</th>\n",
       "      <th>level</th>\n",
       "      <th>add_friend</th>\n",
       "      <th>artist</th>\n",
       "      <th>downgrade</th>\n",
       "      <th>song</th>\n",
       "      <th>thumbsup</th>\n",
       "      <th>thumbsdown</th>\n",
       "      <th>song_persession</th>\n",
       "      <th>avg_duration_hour</th>\n",
       "      <th>num_sessions</th>\n",
       "      <th>subs_age_days</th>\n",
       "    </tr>\n",
       "  </thead>\n",
       "  <tbody>\n",
       "    <tr>\n",
       "      <th>0</th>\n",
       "      <td>30</td>\n",
       "      <td>0</td>\n",
       "      <td>1</td>\n",
       "      <td>1</td>\n",
       "      <td>25.0</td>\n",
       "      <td>1018</td>\n",
       "      <td>1</td>\n",
       "      <td>1417</td>\n",
       "      <td>62.0</td>\n",
       "      <td>17.0</td>\n",
       "      <td>44.281250</td>\n",
       "      <td>3.059905</td>\n",
       "      <td>32</td>\n",
       "      <td>63.066644</td>\n",
       "    </tr>\n",
       "    <tr>\n",
       "      <th>1</th>\n",
       "      <td>9</td>\n",
       "      <td>0</td>\n",
       "      <td>1</td>\n",
       "      <td>1</td>\n",
       "      <td>40.0</td>\n",
       "      <td>1672</td>\n",
       "      <td>1</td>\n",
       "      <td>2676</td>\n",
       "      <td>118.0</td>\n",
       "      <td>32.0</td>\n",
       "      <td>86.322581</td>\n",
       "      <td>5.876281</td>\n",
       "      <td>31</td>\n",
       "      <td>60.832431</td>\n",
       "    </tr>\n",
       "    <tr>\n",
       "      <th>2</th>\n",
       "      <td>74</td>\n",
       "      <td>0</td>\n",
       "      <td>0</td>\n",
       "      <td>1</td>\n",
       "      <td>43.0</td>\n",
       "      <td>1557</td>\n",
       "      <td>1</td>\n",
       "      <td>2400</td>\n",
       "      <td>135.0</td>\n",
       "      <td>25.0</td>\n",
       "      <td>104.347826</td>\n",
       "      <td>7.211473</td>\n",
       "      <td>23</td>\n",
       "      <td>71.223461</td>\n",
       "    </tr>\n",
       "    <tr>\n",
       "      <th>3</th>\n",
       "      <td>54</td>\n",
       "      <td>1</td>\n",
       "      <td>0</td>\n",
       "      <td>1</td>\n",
       "      <td>33.0</td>\n",
       "      <td>1744</td>\n",
       "      <td>1</td>\n",
       "      <td>2841</td>\n",
       "      <td>163.0</td>\n",
       "      <td>29.0</td>\n",
       "      <td>76.783784</td>\n",
       "      <td>5.371494</td>\n",
       "      <td>37</td>\n",
       "      <td>110.751690</td>\n",
       "    </tr>\n",
       "    <tr>\n",
       "      <th>4</th>\n",
       "      <td>4</td>\n",
       "      <td>0</td>\n",
       "      <td>1</td>\n",
       "      <td>1</td>\n",
       "      <td>46.0</td>\n",
       "      <td>1342</td>\n",
       "      <td>1</td>\n",
       "      <td>2048</td>\n",
       "      <td>95.0</td>\n",
       "      <td>26.0</td>\n",
       "      <td>93.090909</td>\n",
       "      <td>6.322311</td>\n",
       "      <td>22</td>\n",
       "      <td>62.797743</td>\n",
       "    </tr>\n",
       "  </tbody>\n",
       "</table>\n",
       "</div>"
      ],
      "text/plain": [
       "  userId  label  gender  level  add_friend  artist  downgrade  song  thumbsup  \\\n",
       "0     30      0       1      1        25.0    1018          1  1417      62.0   \n",
       "1      9      0       1      1        40.0    1672          1  2676     118.0   \n",
       "2     74      0       0      1        43.0    1557          1  2400     135.0   \n",
       "3     54      1       0      1        33.0    1744          1  2841     163.0   \n",
       "4      4      0       1      1        46.0    1342          1  2048      95.0   \n",
       "\n",
       "   thumbsdown  song_persession  avg_duration_hour  num_sessions  subs_age_days  \n",
       "0        17.0        44.281250           3.059905            32      63.066644  \n",
       "1        32.0        86.322581           5.876281            31      60.832431  \n",
       "2        25.0       104.347826           7.211473            23      71.223461  \n",
       "3        29.0        76.783784           5.371494            37     110.751690  \n",
       "4        26.0        93.090909           6.322311            22      62.797743  "
      ]
     },
     "execution_count": 56,
     "metadata": {},
     "output_type": "execute_result"
    }
   ],
   "source": [
    "dfp_final.head()"
   ]
  },
  {
   "cell_type": "code",
   "execution_count": 57,
   "metadata": {},
   "outputs": [],
   "source": [
    "dfp_final.to_csv('sparkify_data_input.csv',index=False)"
   ]
  },
  {
   "cell_type": "code",
   "execution_count": 58,
   "metadata": {},
   "outputs": [],
   "source": [
    "input_df = spark.read.csv('sparkify_data_input.csv', header=True)"
   ]
  },
  {
   "cell_type": "code",
   "execution_count": 59,
   "metadata": {},
   "outputs": [
    {
     "name": "stdout",
     "output_type": "stream",
     "text": [
      "root\n",
      " |-- userId: string (nullable = true)\n",
      " |-- label: string (nullable = true)\n",
      " |-- gender: string (nullable = true)\n",
      " |-- level: string (nullable = true)\n",
      " |-- add_friend: string (nullable = true)\n",
      " |-- artist: string (nullable = true)\n",
      " |-- downgrade: string (nullable = true)\n",
      " |-- song: string (nullable = true)\n",
      " |-- thumbsup: string (nullable = true)\n",
      " |-- thumbsdown: string (nullable = true)\n",
      " |-- song_persession: string (nullable = true)\n",
      " |-- avg_duration_hour: string (nullable = true)\n",
      " |-- num_sessions: string (nullable = true)\n",
      " |-- subs_age_days: string (nullable = true)\n",
      "\n"
     ]
    }
   ],
   "source": [
    "input_df.printSchema()"
   ]
  },
  {
   "cell_type": "code",
   "execution_count": 60,
   "metadata": {},
   "outputs": [],
   "source": [
    "from pyspark.sql import types as sT\n",
    "\n",
    "# integer \n",
    "int_cols = ['userId','label','gender','level','num_sessions']\n",
    "for col in int_cols:\n",
    "    input_df = input_df.withColumn(col,input_df[col].cast(sT.IntegerType()))"
   ]
  },
  {
   "cell_type": "code",
   "execution_count": 61,
   "metadata": {
    "scrolled": true
   },
   "outputs": [],
   "source": [
    "# float\n",
    "float_cols = ['add_friend','song','thumbsup','thumbsdown','downgrade','artist','song_persession','avg_duration_hour','subs_age_days']\n",
    "for col in float_cols:\n",
    "    input_df = input_df.withColumn(col,input_df[col].cast(sT.FloatType()))"
   ]
  },
  {
   "cell_type": "code",
   "execution_count": 62,
   "metadata": {},
   "outputs": [
    {
     "name": "stdout",
     "output_type": "stream",
     "text": [
      "root\n",
      " |-- userId: integer (nullable = true)\n",
      " |-- label: integer (nullable = true)\n",
      " |-- gender: integer (nullable = true)\n",
      " |-- level: integer (nullable = true)\n",
      " |-- add_friend: float (nullable = true)\n",
      " |-- artist: float (nullable = true)\n",
      " |-- downgrade: float (nullable = true)\n",
      " |-- song: float (nullable = true)\n",
      " |-- thumbsup: float (nullable = true)\n",
      " |-- thumbsdown: float (nullable = true)\n",
      " |-- song_persession: float (nullable = true)\n",
      " |-- avg_duration_hour: float (nullable = true)\n",
      " |-- num_sessions: integer (nullable = true)\n",
      " |-- subs_age_days: float (nullable = true)\n",
      "\n"
     ]
    }
   ],
   "source": [
    "input_df.printSchema()"
   ]
  },
  {
   "cell_type": "code",
   "execution_count": 63,
   "metadata": {},
   "outputs": [],
   "source": [
    "features_col = ['gender',\n",
    " 'level',\n",
    " 'add_friend',\n",
    " 'artist',\n",
    " 'downgrade',\n",
    " 'song',\n",
    " 'thumbsup',\n",
    " 'thumbsdown',\n",
    " 'song_persession',\n",
    " 'avg_duration_hour',\n",
    " 'num_sessions',\n",
    " 'subs_age_days']"
   ]
  },
  {
   "cell_type": "code",
   "execution_count": 64,
   "metadata": {},
   "outputs": [],
   "source": [
    "train,test = input_df.randomSplit([0.8,0.2], seed=55)"
   ]
  },
  {
   "cell_type": "code",
   "execution_count": 65,
   "metadata": {},
   "outputs": [],
   "source": [
    "from pyspark.ml.feature import MinMaxScaler\n",
    "assembler = VectorAssembler(inputCols=features_col, outputCol=\"features_vector\")\n",
    "scaler = StandardScaler(inputCol=\"features_vector\", outputCol=\"scaled_features\")"
   ]
  },
  {
   "cell_type": "code",
   "execution_count": 66,
   "metadata": {},
   "outputs": [
    {
     "data": {
      "text/plain": [
       "VectorAssembler_f04b92815435"
      ]
     },
     "execution_count": 66,
     "metadata": {},
     "output_type": "execute_result"
    }
   ],
   "source": [
    "assembler"
   ]
  },
  {
   "cell_type": "markdown",
   "metadata": {},
   "source": [
    "### Logistic Regression"
   ]
  },
  {
   "cell_type": "code",
   "execution_count": 67,
   "metadata": {},
   "outputs": [],
   "source": [
    "lr =  LogisticRegression(labelCol=\"label\", featuresCol=\"scaled_features\", maxIter=10, regParam=0.0, elasticNetParam=0)"
   ]
  },
  {
   "cell_type": "code",
   "execution_count": 68,
   "metadata": {},
   "outputs": [],
   "source": [
    "pipeline_lr = Pipeline(stages=[assembler, scaler, lr])"
   ]
  },
  {
   "cell_type": "code",
   "execution_count": 69,
   "metadata": {},
   "outputs": [],
   "source": [
    "paramGrid = ParamGridBuilder().addGrid(lr.regParam,[0.0, 0.1]).build()"
   ]
  },
  {
   "cell_type": "code",
   "execution_count": 70,
   "metadata": {},
   "outputs": [],
   "source": [
    "crossval_lr = CrossValidator(estimator=pipeline_lr,\n",
    "                          estimatorParamMaps=paramGrid,\n",
    "                          evaluator=MulticlassClassificationEvaluator(),\n",
    "                          numFolds=3)"
   ]
  },
  {
   "cell_type": "code",
   "execution_count": 71,
   "metadata": {},
   "outputs": [],
   "source": [
    "cvModel_lr = crossval_lr.fit(train)\n",
    "cvModel_lr.avgMetrics\n",
    "results_lr = cvModel_lr.transform(test)"
   ]
  },
  {
   "cell_type": "code",
   "execution_count": 72,
   "metadata": {},
   "outputs": [
    {
     "name": "stdout",
     "output_type": "stream",
     "text": [
      "Accuracy for Logistic Regression Model is:  0.8333333333333334\n",
      "F1 score for Logistic Regression model is :  0.7976190476190476\n"
     ]
    }
   ],
   "source": [
    "print(\"Accuracy for Logistic Regression Model is: \", results_lr.filter(results_lr.label == results_lr.prediction).count()/ results_lr.count())\n",
    "evaluator = MulticlassClassificationEvaluator(metricName=\"f1\")\n",
    "score = evaluator.evaluate(results_lr)\n",
    "print(\"F1 score for Logistic Regression model is : \", score)"
   ]
  },
  {
   "cell_type": "code",
   "execution_count": 73,
   "metadata": {},
   "outputs": [
    {
     "data": {
      "text/plain": [
       "DenseVector([0.0671, 0.0417, -0.8321, -0.0001, 0.5993, -0.2133, -0.4505, 0.9866, -0.2713, -0.1502, -0.014, -0.9164])"
      ]
     },
     "execution_count": 73,
     "metadata": {},
     "output_type": "execute_result"
    }
   ],
   "source": [
    "cvModel_lr.bestModel.stages[-1].coefficients"
   ]
  },
  {
   "cell_type": "code",
   "execution_count": 74,
   "metadata": {
    "scrolled": true
   },
   "outputs": [
    {
     "data": {
      "text/plain": [
       "Text(0.5,1,'Logistic Regression Model Feature Distribution')"
      ]
     },
     "execution_count": 74,
     "metadata": {},
     "output_type": "execute_result"
    },
    {
     "data": {
      "image/png": "[encoded data removed]",
      "text/plain": [
       "<matplotlib.figure.Figure at 0x7fdbd290ae80>"
      ]
     },
     "metadata": {
      "needs_background": "light"
     },
     "output_type": "display_data"
    }
   ],
   "source": [
    "feature_importances = cvModel_lr.bestModel.stages[-1].coefficients.values.tolist()\n",
    "feature_importance_df = pd.DataFrame({'feature_importance': feature_importances, 'columns': features_col})\n",
    "graph = sns.barplot(x='feature_importance', y='columns', data=feature_importance_df)\n",
    "graph.set_title('Logistic Regression Model Feature Distribution')"
   ]
  },
  {
   "cell_type": "code",
   "execution_count": 75,
   "metadata": {},
   "outputs": [
    {
     "data": {
      "text/html": [
       "<div>\n",
       "<style scoped>\n",
       "    .dataframe tbody tr th:only-of-type {\n",
       "        vertical-align: middle;\n",
       "    }\n",
       "\n",
       "    .dataframe tbody tr th {\n",
       "        vertical-align: top;\n",
       "    }\n",
       "\n",
       "    .dataframe thead th {\n",
       "        text-align: right;\n",
       "    }\n",
       "</style>\n",
       "<table border=\"1\" class=\"dataframe\">\n",
       "  <thead>\n",
       "    <tr style=\"text-align: right;\">\n",
       "      <th></th>\n",
       "      <th>feature_importance</th>\n",
       "      <th>columns</th>\n",
       "    </tr>\n",
       "  </thead>\n",
       "  <tbody>\n",
       "    <tr>\n",
       "      <th>0</th>\n",
       "      <td>0.067132</td>\n",
       "      <td>gender</td>\n",
       "    </tr>\n",
       "    <tr>\n",
       "      <th>1</th>\n",
       "      <td>0.041662</td>\n",
       "      <td>level</td>\n",
       "    </tr>\n",
       "    <tr>\n",
       "      <th>2</th>\n",
       "      <td>-0.832113</td>\n",
       "      <td>add_friend</td>\n",
       "    </tr>\n",
       "    <tr>\n",
       "      <th>3</th>\n",
       "      <td>-0.000108</td>\n",
       "      <td>artist</td>\n",
       "    </tr>\n",
       "    <tr>\n",
       "      <th>4</th>\n",
       "      <td>0.599302</td>\n",
       "      <td>downgrade</td>\n",
       "    </tr>\n",
       "    <tr>\n",
       "      <th>5</th>\n",
       "      <td>-0.213325</td>\n",
       "      <td>song</td>\n",
       "    </tr>\n",
       "    <tr>\n",
       "      <th>6</th>\n",
       "      <td>-0.450528</td>\n",
       "      <td>thumbsup</td>\n",
       "    </tr>\n",
       "    <tr>\n",
       "      <th>7</th>\n",
       "      <td>0.986647</td>\n",
       "      <td>thumbsdown</td>\n",
       "    </tr>\n",
       "    <tr>\n",
       "      <th>8</th>\n",
       "      <td>-0.271347</td>\n",
       "      <td>song_persession</td>\n",
       "    </tr>\n",
       "    <tr>\n",
       "      <th>9</th>\n",
       "      <td>-0.150176</td>\n",
       "      <td>avg_duration_hour</td>\n",
       "    </tr>\n",
       "    <tr>\n",
       "      <th>10</th>\n",
       "      <td>-0.014026</td>\n",
       "      <td>num_sessions</td>\n",
       "    </tr>\n",
       "    <tr>\n",
       "      <th>11</th>\n",
       "      <td>-0.916433</td>\n",
       "      <td>subs_age_days</td>\n",
       "    </tr>\n",
       "  </tbody>\n",
       "</table>\n",
       "</div>"
      ],
      "text/plain": [
       "    feature_importance            columns\n",
       "0             0.067132             gender\n",
       "1             0.041662              level\n",
       "2            -0.832113         add_friend\n",
       "3            -0.000108             artist\n",
       "4             0.599302          downgrade\n",
       "5            -0.213325               song\n",
       "6            -0.450528           thumbsup\n",
       "7             0.986647         thumbsdown\n",
       "8            -0.271347    song_persession\n",
       "9            -0.150176  avg_duration_hour\n",
       "10           -0.014026       num_sessions\n",
       "11           -0.916433      subs_age_days"
      ]
     },
     "execution_count": 75,
     "metadata": {},
     "output_type": "execute_result"
    }
   ],
   "source": [
    "feature_importance_df"
   ]
  },
  {
   "cell_type": "markdown",
   "metadata": {},
   "source": [
    "looking at the graph above, the most important factor for the churn is thumbsdown, and subs age days"
   ]
  },
  {
   "cell_type": "markdown",
   "metadata": {},
   "source": [
    "### Random Forest Classifier"
   ]
  },
  {
   "cell_type": "code",
   "execution_count": 76,
   "metadata": {},
   "outputs": [
    {
     "name": "stdout",
     "output_type": "stream",
     "text": [
      "Accuracy for Random Forest Model is:  0.7916666666666666\n",
      "F1 score for Random Forest Model is:  0.7916666666666667\n"
     ]
    }
   ],
   "source": [
    "rf = RandomForestClassifier(labelCol=\"label\", featuresCol=\"scaled_features\", numTrees=10)\n",
    "pipeline_rf = Pipeline(stages=[assembler, scaler, rf])\n",
    "\n",
    "\n",
    "paramGrid = ParamGridBuilder() \\\n",
    "    .addGrid(rf.numTrees,[5, 3, 10]) \\\n",
    "    .build()\n",
    "\n",
    "crossval_rf = CrossValidator(estimator=pipeline_rf,\n",
    "                          estimatorParamMaps=paramGrid,\n",
    "                          evaluator=MulticlassClassificationEvaluator(),\n",
    "                          numFolds=3)\n",
    "\n",
    "cvModel_rf = crossval_rf.fit(train)\n",
    "cvModel_rf.avgMetrics\n",
    "results_rf = cvModel_rf.transform(test)\n",
    "print(\"Accuracy for Random Forest Model is: \", results_rf.filter(results_rf.label == results_rf.prediction).count()/ results_rf.count())\n",
    "\n",
    "evaluator = MulticlassClassificationEvaluator(metricName=\"f1\")\n",
    "score = evaluator.evaluate(results_rf)\n",
    "print(\"F1 score for Random Forest Model is: \", score)"
   ]
  },
  {
   "cell_type": "code",
   "execution_count": 77,
   "metadata": {},
   "outputs": [
    {
     "name": "stdout",
     "output_type": "stream",
     "text": [
      "The best value for number of trees is:  10\n"
     ]
    }
   ],
   "source": [
    "print(\"The best value for number of trees is: \", cvModel_rf.bestModel.stages[-1]._java_obj.parent().getNumTrees())"
   ]
  },
  {
   "cell_type": "code",
   "execution_count": 78,
   "metadata": {},
   "outputs": [
    {
     "data": {
      "text/plain": [
       "SparseVector(12, {0: 0.0235, 2: 0.0495, 3: 0.0302, 5: 0.1269, 6: 0.084, 7: 0.1695, 8: 0.0455, 9: 0.0903, 10: 0.0506, 11: 0.33})"
      ]
     },
     "execution_count": 78,
     "metadata": {},
     "output_type": "execute_result"
    }
   ],
   "source": [
    "cvModel_rf.bestModel.stages[2].featureImportances"
   ]
  },
  {
   "cell_type": "code",
   "execution_count": 82,
   "metadata": {},
   "outputs": [],
   "source": [
    "features_col_gbt = [\n",
    " 'gender',\n",
    "#  'level',\n",
    " 'add_friend',\n",
    " 'artist',\n",
    "#  'downgrade',\n",
    " 'song',\n",
    " 'thumbsup',\n",
    " 'thumbsdown',\n",
    " 'song_persession',\n",
    " 'avg_duration_hour',\n",
    " 'num_sessions',\n",
    " 'subs_age_days']"
   ]
  },
  {
   "cell_type": "code",
   "execution_count": 83,
   "metadata": {},
   "outputs": [
    {
     "data": {
      "text/plain": [
       "SparseVector(12, {0: 0.0235, 2: 0.0495, 3: 0.0302, 5: 0.1269, 6: 0.084, 7: 0.1695, 8: 0.0455, 9: 0.0903, 10: 0.0506, 11: 0.33})"
      ]
     },
     "execution_count": 83,
     "metadata": {},
     "output_type": "execute_result"
    }
   ],
   "source": [
    "cvModel_rf.bestModel.stages[2].featureImportances"
   ]
  },
  {
   "cell_type": "code",
   "execution_count": 84,
   "metadata": {},
   "outputs": [
    {
     "data": {
      "text/plain": [
       "Text(0.5,1,'Random Forest Classifier Feature Distribution')"
      ]
     },
     "execution_count": 84,
     "metadata": {},
     "output_type": "execute_result"
    },
    {
     "data": {
      "image/png": "[encoded data removed]",
      "text/plain": [
       "<matplotlib.figure.Figure at 0x7fdbe8075198>"
      ]
     },
     "metadata": {
      "needs_background": "light"
     },
     "output_type": "display_data"
    }
   ],
   "source": [
    "feature_importances = cvModel_rf.bestModel.stages[2].featureImportances.values.tolist()\n",
    "feature_importance_df = pd.DataFrame({'feature_importance': feature_importances, 'columns': features_col_gbt})\n",
    "graph = sns.barplot(x='feature_importance', y='columns', data=feature_importance_df)\n",
    "graph.set_title('Random Forest Classifier Feature Distribution')"
   ]
  },
  {
   "cell_type": "markdown",
   "metadata": {},
   "source": [
    "### Gradient Boosting Tree Classifier"
   ]
  },
  {
   "cell_type": "code",
   "execution_count": 85,
   "metadata": {},
   "outputs": [
    {
     "name": "stdout",
     "output_type": "stream",
     "text": [
      "Accuracy for Gradient Boosting Tree Model is:  0.7291666666666666\n",
      "F1 score for Gradient Boosting Tree classifier is :  0.7430952380952381\n"
     ]
    }
   ],
   "source": [
    "gbt = GBTClassifier(labelCol=\"label\", featuresCol=\"scaled_features\", maxIter=10)\n",
    "pipeline_gbt = Pipeline(stages=[assembler, scaler, gbt])\n",
    "paramGrid = ParamGridBuilder() \\\n",
    "    .addGrid(gbt.maxIter,[5,3, 10]) \\\n",
    "    .build()\n",
    "crossval_gbt = CrossValidator(estimator=pipeline_gbt,\n",
    "                          estimatorParamMaps=paramGrid,\n",
    "                          evaluator=MulticlassClassificationEvaluator(),\n",
    "                          numFolds=3, collectSubModels=True)\n",
    "cvModel_gbt = crossval_gbt.fit(train)\n",
    "cvModel_gbt.avgMetrics\n",
    "results_gbt = cvModel_gbt.transform(test)\n",
    "print(\"Accuracy for Gradient Boosting Tree Model is: \", results_gbt.filter(results_gbt.label == results_gbt.prediction).count()/ results_gbt.count())\n",
    "\n",
    "evaluator = MulticlassClassificationEvaluator(metricName=\"f1\")\n",
    "score = evaluator.evaluate(results_gbt)\n",
    "print(\"F1 score for Gradient Boosting Tree classifier is : \", score)"
   ]
  },
  {
   "cell_type": "code",
   "execution_count": 86,
   "metadata": {},
   "outputs": [
    {
     "name": "stdout",
     "output_type": "stream",
     "text": [
      "The best value for maximum number of iterations is:  5\n"
     ]
    }
   ],
   "source": [
    "print(\"The best value for maximum number of iterations is: \", cvModel_gbt.bestModel.stages[-1]._java_obj.parent().getMaxIter())"
   ]
  },
  {
   "cell_type": "code",
   "execution_count": 87,
   "metadata": {},
   "outputs": [
    {
     "data": {
      "text/plain": [
       "SparseVector(12, {0: 0.0187, 2: 0.1281, 3: 0.1529, 5: 0.0037, 6: 0.1288, 7: 0.1855, 8: 0.0425, 9: 0.0703, 10: 0.0342, 11: 0.2353})"
      ]
     },
     "execution_count": 87,
     "metadata": {},
     "output_type": "execute_result"
    }
   ],
   "source": [
    "cvModel_gbt.bestModel.stages[2].featureImportances"
   ]
  },
  {
   "cell_type": "code",
   "execution_count": 88,
   "metadata": {},
   "outputs": [
    {
     "data": {
      "text/plain": [
       "array([ 0.0186836 ,  0.12805455,  0.15294042,  0.00368923,  0.12883662,\n",
       "        0.18554673,  0.04252496,  0.07025251,  0.03419114,  0.23528023])"
      ]
     },
     "execution_count": 88,
     "metadata": {},
     "output_type": "execute_result"
    }
   ],
   "source": [
    "cvModel_gbt.bestModel.stages[2].featureImportances.values"
   ]
  },
  {
   "cell_type": "code",
   "execution_count": 89,
   "metadata": {},
   "outputs": [
    {
     "name": "stdout",
     "output_type": "stream",
     "text": [
      "root\n",
      " |-- userId: integer (nullable = true)\n",
      " |-- label: integer (nullable = true)\n",
      " |-- gender: integer (nullable = true)\n",
      " |-- level: integer (nullable = true)\n",
      " |-- add_friend: float (nullable = true)\n",
      " |-- artist: float (nullable = true)\n",
      " |-- downgrade: float (nullable = true)\n",
      " |-- song: float (nullable = true)\n",
      " |-- thumbsup: float (nullable = true)\n",
      " |-- thumbsdown: float (nullable = true)\n",
      " |-- song_persession: float (nullable = true)\n",
      " |-- avg_duration_hour: float (nullable = true)\n",
      " |-- num_sessions: integer (nullable = true)\n",
      " |-- subs_age_days: float (nullable = true)\n",
      "\n"
     ]
    }
   ],
   "source": [
    "input_df.printSchema()"
   ]
  },
  {
   "cell_type": "code",
   "execution_count": 90,
   "metadata": {},
   "outputs": [
    {
     "data": {
      "text/plain": [
       "SparseVector(12, {0: 0.0187, 2: 0.1281, 3: 0.1529, 5: 0.0037, 6: 0.1288, 7: 0.1855, 8: 0.0425, 9: 0.0703, 10: 0.0342, 11: 0.2353})"
      ]
     },
     "execution_count": 90,
     "metadata": {},
     "output_type": "execute_result"
    }
   ],
   "source": [
    "cvModel_gbt.bestModel.stages[2].featureImportances"
   ]
  },
  {
   "cell_type": "code",
   "execution_count": 91,
   "metadata": {},
   "outputs": [],
   "source": [
    "features_col_gbt = [\n",
    " 'gender',\n",
    "#  'level',\n",
    " 'add_friend',\n",
    " 'artist',\n",
    "#  'downgrade',\n",
    " 'song',\n",
    " 'thumbsup',\n",
    " 'thumbsdown',\n",
    " 'song_persession',\n",
    " 'avg_duration_hour',\n",
    " 'num_sessions',\n",
    " 'subs_age_days']"
   ]
  },
  {
   "cell_type": "code",
   "execution_count": 92,
   "metadata": {},
   "outputs": [
    {
     "data": {
      "text/plain": [
       "Text(0.5,1,'Gradient Boosting Tree Classifier Feature Distribution')"
      ]
     },
     "execution_count": 92,
     "metadata": {},
     "output_type": "execute_result"
    },
    {
     "data": {
      "image/png": "[encoded data removed]",
      "text/plain": [
       "<matplotlib.figure.Figure at 0x7fdbd2745358>"
      ]
     },
     "metadata": {
      "needs_background": "light"
     },
     "output_type": "display_data"
    }
   ],
   "source": [
    "feature_importances = cvModel_gbt.bestModel.stages[2].featureImportances.values.tolist()\n",
    "feature_importance_df = pd.DataFrame({'feature_importance': feature_importances, 'columns': features_col_gbt})\n",
    "graph = sns.barplot(x='feature_importance', y='columns', data=feature_importance_df)\n",
    "graph.set_title('Gradient Boosting Tree Classifier Feature Distribution')"
   ]
  },
  {
   "cell_type": "markdown",
   "metadata": {},
   "source": [
    "Thumbsdown and subs_age_days  is the most important feature in Gradient Boosting Tree"
   ]
  },
  {
   "cell_type": "markdown",
   "metadata": {},
   "source": [
    "### Conclusion"
   ]
  },
  {
   "cell_type": "markdown",
   "metadata": {},
   "source": [
    "I use 12 features to predict users churn. Both method, Logistic Regression and Gradient Boosting Tree shows that two most important features are Thumbsdown and Duration of User Subscribe the Sparkify.\n",
    "I try 3 methods for modeling that are : Logistic Regression,Random Forest Classifier, and Gradient Boosting Tree.\n",
    "Based on the F1-Score, Logistic Regression is the most fittable for this case with F1-Score  0.7976190476190476"
   ]
  },
  {
   "cell_type": "markdown",
   "metadata": {},
   "source": [
    "# Final Steps\n",
    "Clean up your code, adding comments and renaming variables to make the code easier to read and maintain. Refer to the Spark Project Overview page and Data Scientist Capstone Project Rubric to make sure you are including all components of the capstone project and meet all expectations. Remember, this includes thorough documentation in a README file in a Github repository, as well as a web app or blog post."
   ]
  },
  {
   "cell_type": "code",
   "execution_count": null,
   "metadata": {},
   "outputs": [],
   "source": []
  }
 ],
 "metadata": {
  "kernelspec": {
   "display_name": "Python 3",
   "language": "python",
   "name": "python3"
  },
  "language_info": {
   "codemirror_mode": {
    "name": "ipython",
    "version": 3
   },
   "file_extension": ".py",
   "mimetype": "text/x-python",
   "name": "python",
   "nbconvert_exporter": "python",
   "pygments_lexer": "ipython3",
   "version": "3.6.3"
  }
 },
 "nbformat": 4,
 "nbformat_minor": 2
}
